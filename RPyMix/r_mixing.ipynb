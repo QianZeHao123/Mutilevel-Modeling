{
 "cells": [
  {
   "cell_type": "code",
   "outputs": [
    {
     "name": "stdout",
     "output_type": "stream",
     "text": [
      "C:\\Program Files\\R\\R-4.3.2\n"
     ]
    }
   ],
   "source": [
    "import os\n",
    "\n",
    "# Replace 'C:\\path\\to\\your\\R\\installation' with the actual path to the R installation\n",
    "r_home_path = r'C:\\Program Files\\R\\R-4.3.2'\n",
    "# Set the R_HOME environment variable\n",
    "os.environ['R_HOME'] = r_home_path\n",
    "# Check if R_HOME is set correctly\n",
    "print(os.environ['R_HOME'])"
   ],
   "metadata": {
    "collapsed": false,
    "ExecuteTime": {
     "end_time": "2024-01-31T23:12:26.706533600Z",
     "start_time": "2024-01-31T23:12:26.698153300Z"
    }
   },
   "id": "71ba2f01f190d18",
   "execution_count": 1
  },
  {
   "cell_type": "code",
   "execution_count": 2,
   "id": "initial_id",
   "metadata": {
    "collapsed": true,
    "ExecuteTime": {
     "end_time": "2024-01-31T23:12:27.440716700Z",
     "start_time": "2024-01-31T23:12:27.433717600Z"
    }
   },
   "outputs": [
    {
     "name": "stdout",
     "output_type": "stream",
     "text": [
      "3.5.15\n"
     ]
    }
   ],
   "source": [
    "import rpy2\n",
    "\n",
    "print(rpy2.__version__)"
   ]
  },
  {
   "cell_type": "code",
   "outputs": [],
   "source": [
    "import rpy2.robjects as robjects\n",
    "from rpy2.robjects.packages import importr"
   ],
   "metadata": {
    "collapsed": false,
    "ExecuteTime": {
     "end_time": "2024-01-31T23:12:28.792667200Z",
     "start_time": "2024-01-31T23:12:28.577646500Z"
    }
   },
   "id": "bb3e0521e379f67c",
   "execution_count": 3
  },
  {
   "cell_type": "code",
   "outputs": [
    {
     "data": {
      "text/plain": "<rpy2.rinterface_lib.sexp.NULLType object at 0x000001B1CE315400> [RTYPES.NILSXP]"
     },
     "execution_count": 4,
     "metadata": {},
     "output_type": "execute_result"
    }
   ],
   "source": [
    "# import rpy2's package module\n",
    "import rpy2.robjects.packages as rpackages\n",
    "\n",
    "# import R's utility package\n",
    "utils = rpackages.importr('utils')\n",
    "# select a mirror for R packages\n",
    "utils.chooseCRANmirror(ind=1)  # select the first mirror in the list"
   ],
   "metadata": {
    "collapsed": false,
    "ExecuteTime": {
     "end_time": "2024-01-31T23:12:42.712291700Z",
     "start_time": "2024-01-31T23:12:42.233419400Z"
    }
   },
   "id": "4893cff6a2cd549",
   "execution_count": 4
  },
  {
   "cell_type": "code",
   "outputs": [],
   "source": [],
   "metadata": {
    "collapsed": false
   },
   "id": "1826bd0d6d70ee76"
  }
 ],
 "metadata": {
  "kernelspec": {
   "display_name": "Python 3",
   "language": "python",
   "name": "python3"
  },
  "language_info": {
   "codemirror_mode": {
    "name": "ipython",
    "version": 2
   },
   "file_extension": ".py",
   "mimetype": "text/x-python",
   "name": "python",
   "nbconvert_exporter": "python",
   "pygments_lexer": "ipython2",
   "version": "2.7.6"
  }
 },
 "nbformat": 4,
 "nbformat_minor": 5
}
